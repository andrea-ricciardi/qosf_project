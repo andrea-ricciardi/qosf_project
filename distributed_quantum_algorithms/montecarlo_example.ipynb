{
 "cells": [
  {
   "cell_type": "markdown",
   "metadata": {},
   "source": [
    "# Parallel and Distributed Low Depth Algorithms for QAE"
   ]
  },
  {
   "cell_type": "markdown",
   "metadata": {},
   "source": [
    "## Summary"
   ]
  },
  {
   "cell_type": "markdown",
   "metadata": {},
   "source": [
    "This notebook shows how to practically run **Monte Carlo integration** using a parallelized and distributed version of the **Power Law Amplitude Estimation** (PLAE) algorithm for quantum amplitude estimation. The PLAE algorithm is a low depth algorithm utilizing maximum likelihood estimation based on the measurements produced by different quantum circuits."
   ]
  },
  {
   "cell_type": "markdown",
   "metadata": {},
   "source": [
    "PLAE paper: https://arxiv.org/abs/2012.03348"
   ]
  },
  {
   "cell_type": "markdown",
   "metadata": {},
   "source": [
    "## Monte Carlo integration as QAE problem"
   ]
  },
  {
   "cell_type": "markdown",
   "metadata": {},
   "source": [
    "Monte Carlo integration can be used to calculate the expected value of a real-valued function $0\\leq f(x)\\leq 1$ defined for $n$-bit input $x\\in \\{0,1\\}^n$ with probability $p(x)$:\n",
    "$$\\mathbb{E}\\big{[}f(x)\\big{]}=\\sum^{2^n-1}_{x=0}p(x)f(x).$$\n",
    "We can define the unitary operators $\\mathscr{R}$ and $\\mathscr{P}$ as\n",
    "$$\\mathscr{R} |x_n \\rangle |0\\rangle = |x\\rangle _n \\Big{(}\\sqrt{f(x)} |1\\rangle + \\sqrt{1-f(x)}|0\\rangle \\Big{)}$$\n",
    "$$\\mathscr{P} |0\\rangle _n = \\sum^{2^n-1}_{x=0} \\sqrt{p(x)}|x\\rangle _n, $$\n",
    "and apply them to $|0\\rangle _{n+1}$ to generate the state $|\\Psi \\rangle$:\n",
    "$$|\\Psi \\rangle =\\mathscr{R}\\big{(}\\mathscr{P}\\otimes I_1 \\big{)}|0\\rangle _n |0 \\rangle = \\sum^{2^n-1}_{x=0} \\sqrt{p(x)}|x\\rangle _n \\Big{(}\\sqrt{f(x)}|1\\rangle + \\sqrt{1-f(x)}|0\\rangle \\Big{)}, $$\n",
    "where $I_1$ is the identity acting on a qubit. We can define $a:=\\mathbb{E}\\big{[}f(x)\\big{]}$ and introduce two orthonormal bases:\n",
    "$$|\\tilde{\\Psi}_1 \\rangle = \\dfrac{1}{\\sqrt{a}}\\sum^{2^n-1}_{x=0}\\sqrt{p(x)}\\sqrt{f(x)}|x \\rangle _n |1 \\rangle ,$$\n",
    "$$|\\tilde{\\Psi}_0 \\rangle = \\dfrac{1}{\\sqrt{1-a}}\\sum^{2^n-1}_{x=0}\\sqrt{p(x)}\\sqrt{1-f(x)}|x \\rangle _n |0 \\rangle .$$"
   ]
  },
  {
   "cell_type": "markdown",
   "metadata": {},
   "source": [
    "The state $|\\Psi \\rangle $ can now be rewritten as\n",
    "$$|\\Psi \\rangle = \\sqrt{a}|\\tilde{\\Psi} _1 \\rangle+\\sqrt{1-a}|\\tilde{\\Psi} _0 \\rangle. $$\n",
    "The Monte Carlo integration problem can be therefore reduced to an amplitude estimation of $\\tilde{\\Psi} _1$."
   ]
  },
  {
   "cell_type": "markdown",
   "metadata": {},
   "source": [
    "## $\\mathscr{R}$ and $\\mathscr{P}$ operators"
   ]
  },
  {
   "cell_type": "markdown",
   "metadata": {},
   "source": [
    "The forms of the $\\mathscr{R}$ and $\\mathscr{P}$ operators are specific to the problem we are trying to solve. The generic `UnitaryOperator` class in `qae/operators.py` lays out the basic attributes and methods every operator should provide. "
   ]
  },
  {
   "cell_type": "markdown",
   "metadata": {},
   "source": [
    "## Sine Squared Integral"
   ]
  },
  {
   "cell_type": "markdown",
   "metadata": {},
   "source": [
    "As an example application of Monte Carlo integration, we want to calculate the integral:\n",
    "$$\\dfrac{1}{\\pi/5}\\int ^{\\frac{\\pi}{5}}_0 \\sin ^2 (x) \\, dx. $$"
   ]
  },
  {
   "cell_type": "markdown",
   "metadata": {},
   "source": [
    "The operator $\\mathscr{R}$ can be constructed with controlled-$Y$ rotations, $\\mathscr{P}$ with Hadamard gates. The `SineSquaredOperator` class in `qae/applications/montecarlo/montecarlo_operators.py`, implementing the actual $\\mathscr{R}$ and $\\mathscr{P}$ operators for this problem, inherits from `UnitaryOperator`. Any different problem should implement its own `ProblemOperator` class derived from `UnitaryOperator`."
   ]
  },
  {
   "cell_type": "markdown",
   "metadata": {},
   "source": [
    "## Parallelization"
   ]
  },
  {
   "cell_type": "markdown",
   "metadata": {},
   "source": [
    "Given the nature of the PLAE algorithm, we can parallelize the computation of each likelihood function, eventually merging them into a single likelihood function, on which the estimation will be performed. We assume we have multiple quantum processors with different numbers of qubits: such parameters are defined in `parallelization/hardware_configuration.py`."
   ]
  },
  {
   "cell_type": "markdown",
   "metadata": {},
   "source": [
    "### Parallelization - Scheduling"
   ]
  },
  {
   "cell_type": "markdown",
   "metadata": {},
   "source": [
    "Our goal consists into writing down a distribution schedule optimizing the allocation of qubits needed by the algorithm given the available resources. One can then simply follow the schedule and run over the distributed system to obtain an estimate of the expectation value. The `Schedule` class in `parallelization/scheduling/schedule.py` represents a generic scheduling, in which the method `make_schedule` is abstract: this method will be implemented by the children and will define the specific schedule."
   ]
  },
  {
   "cell_type": "markdown",
   "metadata": {},
   "source": [
    "The `GreedySchedule` class inherits from `Schedule` and greedily fills up the QPUs with as many states that can possibly fit; the remaining needed qubits are then split across QPUs; when the QPUs cannot fit any more states, the execution of those estimations are moved to the next round."
   ]
  },
  {
   "cell_type": "markdown",
   "metadata": {},
   "source": [
    "As a practical example, let's assume we have 3 QPUs with 10, 10 and 5 qubits respectively, and let's assume that our algorithm requires 5 qubits to run (including ancillas) and must run the circuit 7 times. A greedy schedule can be written as follows:"
   ]
  },
  {
   "cell_type": "markdown",
   "metadata": {},
   "source": [
    "```\n",
    "Round 1:\n",
    "[(0, [5, 0, 0]), (1, [0, 5, 0]), (2, [0, 5, 0]), (3, [5, 0, 0]), (4, [0, 0, 5])]\n",
    "Round 2:\n",
    "[(0, [5, 0, 0]), (1, [0, 5, 0])]\n",
    "```"
   ]
  },
  {
   "cell_type": "markdown",
   "metadata": {},
   "source": [
    "In the first round, we allocate 5 qubits in QPU1 (first circuit), 5 qubits in QPU2 (second circuit), 5 qubits in QPU2 (third), 5 qubits in QPU1 (fourth) and 5 qubits in QPU3 (fifth). We still need to run the circuit twice, however we have fully allocated all the qubits available in the QPUs. We therefore move the execution of the sixth and the seventh circuit to a second round."
   ]
  },
  {
   "cell_type": "markdown",
   "metadata": {},
   "source": [
    "Notice that other approaches are possible for resources allocation, for instance constraint programming. One can implement his/her own scheduling algorithm by inheriting from the `Schedule` class."
   ]
  },
  {
   "cell_type": "markdown",
   "metadata": {},
   "source": [
    "### Parallelization - Algorithm"
   ]
  },
  {
   "cell_type": "markdown",
   "metadata": {},
   "source": [
    "The class `ParallelMaximumLikelihoodEstimation` (PMLE) in `parallelization/algorithms/amplitude_estimators/parallel_mlae.py` is built on top of the Qiskit built-in class `MaximumLikelihoodEstimation` (MLE). Unlike the MLE class, PMLE requires a distribution schedule to be instantiated, as well as a `ParallelQuantumInstance` class, defined in `parallelization/utils/parallel_quantum_instance.py`, which inherits from the Qiskit built-in `QuantumInstance` class."
   ]
  },
  {
   "cell_type": "markdown",
   "metadata": {},
   "source": [
    "The PMLE class runs in parallel the circuits, computes the maximum likelihood functions, and eventually joins them in order to obtain the final estimate."
   ]
  },
  {
   "cell_type": "markdown",
   "metadata": {},
   "source": [
    "## Run the program"
   ]
  },
  {
   "cell_type": "markdown",
   "metadata": {},
   "source": [
    "The main program is `parallel_montecarlo.py`. One can run it simply with `./parallel_montecarlo.py`."
   ]
  },
  {
   "cell_type": "markdown",
   "metadata": {},
   "source": [
    "### Run the program - Output"
   ]
  },
  {
   "cell_type": "markdown",
   "metadata": {},
   "source": [
    "This is an example output of the program:"
   ]
  },
  {
   "cell_type": "markdown",
   "metadata": {},
   "source": [
    "```\n",
    "\n",
    "### Configuration ###\n",
    "# Algorithm Configuration #\n",
    "N qubits: 3, N circuits: 7\n",
    "# Hardware Configuration #\n",
    "N QPUs: 3, qubits per qpu: [10, 10, 5]\n",
    "# Integral Configuration #\n",
    "Problem: sine_squared, b_max: 0.6283185307179586\n",
    "\n",
    "### Schedule for parallelization ###\n",
    "# Round 1 #\n",
    "[(0, [5, 0, 0]), (1, [0, 5, 0]), (2, [0, 5, 0]), (3, [5, 0, 0]), (4, [0, 0, 5])]\n",
    "# Round 2 #\n",
    "[(0, [5, 0, 0]), (1, [0, 5, 0])]\n",
    "\n",
    "### Results ###\n",
    "Analytical result: 0.12158663567967151\n",
    "Discretized result: 0.1211973148745352\n",
    "Estimation result: 0.12084395622049497\n",
    "```"
   ]
  },
  {
   "cell_type": "markdown",
   "metadata": {},
   "source": [
    "In the first part, the program prints out the configuration. In the second part, one can see the schedule for parallelization. In the third part, the results are printed out: the analytical result (when available, like in our case), the discretized result (obtained from the discretization of the integral) and the estimation result, obtained by running the MLAE algorithm."
   ]
  },
  {
   "cell_type": "markdown",
   "metadata": {},
   "source": [
    "### Run the program - Code"
   ]
  },
  {
   "cell_type": "markdown",
   "metadata": {},
   "source": [
    "Let's now run the main program in `parallel_montecarlo.py`. Let's start by importing the needed packages:"
   ]
  },
  {
   "cell_type": "code",
   "execution_count": 4,
   "metadata": {},
   "outputs": [],
   "source": [
    "import math\n",
    "\n",
    "from qae.applications.montecarlo.montecarlo_operators import SineSquaredOperator\n",
    "from qae.applications.montecarlo.montecarlo_config import QAEMonteCarloConfig, IntegralConfig\n",
    "\n",
    "from qiskit import Aer\n",
    "from qiskit.algorithms.amplitude_estimators import EstimationProblem\n",
    "\n",
    "from qae import UnitaryOperator\n",
    "from parallelization import ParallelMaximumLikelihoodAmplitudeEstimation\n",
    "from parallelization import ParallelQuantumInstance\n",
    "from parallelization import GreedySchedule\n",
    "\n",
    "from typing import List\n",
    "import warnings\n",
    "\n",
    "warnings.filterwarnings(\"ignore\")"
   ]
  },
  {
   "cell_type": "markdown",
   "metadata": {},
   "source": [
    "Before defining our inputs, we first define the power law schedule function:"
   ]
  },
  {
   "cell_type": "code",
   "execution_count": 6,
   "metadata": {},
   "outputs": [],
   "source": [
    "def power_law_schedule(eps_precision: float = 0.01,\n",
    "                       beta: float = 0.455) -> List[int]:\n",
    "    \"\"\"\n",
    "    Power Law schedule\n",
    "\n",
    "    Parameters\n",
    "    ----------\n",
    "    eps_precision : float, optional\n",
    "        Epsilon precision. The default is 0.01.\n",
    "    beta : float, optional\n",
    "        Beta. The default is 0.455.\n",
    "\n",
    "    Returns\n",
    "    -------\n",
    "    List[int]\n",
    "        Power Law schedule.\n",
    "\n",
    "    \"\"\"\n",
    "    max_k = max(int(1/eps_precision ** (2*beta)), int(math.log(1/eps_precision)))\n",
    "    evaluation_schedule = [int(k ** ((1-beta)/(2*beta))) for k in range(1, max_k+1)]\n",
    "    return evaluation_schedule"
   ]
  },
  {
   "cell_type": "markdown",
   "metadata": {},
   "source": [
    "We can now introduce the user inputs and print the configuration:"
   ]
  },
  {
   "cell_type": "code",
   "execution_count": 9,
   "metadata": {},
   "outputs": [
    {
     "name": "stdout",
     "output_type": "stream",
     "text": [
      "### Configuration ###\n",
      "# Algorithm Configuration #\n",
      "N qubits: 3, N circuits: 66\n",
      "# Hardware Configuration #\n",
      "N QPUs: 3, qubits per qpu: [10, 10, 10]\n",
      "# Integral Configuration #\n",
      "Problem: sine_squared, b_max: 0.6283185307179586\n",
      "\n"
     ]
    }
   ],
   "source": [
    "##############\n",
    "# (1) Inputs #\n",
    "##############\n",
    "\"\"\" Start Inputs \"\"\"\n",
    "# Number of qubits the operator A acts on (\"n\" in the Suzuki paper).\n",
    "# Notice that the measurement qubit is not included here.\n",
    "# By using more qubits, we can discretized (approximate) the integral better\n",
    "n_qubits_input = 3\n",
    "qubits_per_qpu = [10, 10, 10]\n",
    "problem = 'sine_squared'  # 'sine_squared' for computing the integral of (sin(x))^2\n",
    "evaluation_schedule = power_law_schedule()  # power_law_schedule() for power law, None for Suzuki\n",
    "\"\"\" End Inputs \"\"\"\n",
    "\n",
    "# Make config for the program\n",
    "config = QAEMonteCarloConfig(n_qubits_input, qubits_per_qpu, problem,\n",
    "                             evaluation_schedule=evaluation_schedule)\n",
    "config.print_configuration()"
   ]
  },
  {
   "cell_type": "markdown",
   "metadata": {},
   "source": [
    "We define a `make_operator` function which returns the wanted operator, given the configuration:"
   ]
  },
  {
   "cell_type": "code",
   "execution_count": 10,
   "metadata": {},
   "outputs": [],
   "source": [
    "def make_operator(integral_config: IntegralConfig, n_qubits: int) -> UnitaryOperator:\n",
    "    \"\"\"\n",
    "    Make problem operator. Only SineSquaredOperator supported so far.\n",
    "\n",
    "    Parameters\n",
    "    ----------\n",
    "    integral_config : IntegralConfig\n",
    "    n_qubits : int\n",
    "\n",
    "    Raises\n",
    "    ------\n",
    "    ValueError\n",
    "        If integral_config.problem is not sine_squared.\n",
    "\n",
    "    Returns\n",
    "    -------\n",
    "    Type[UnitaryOperator]\n",
    "        Problem operator.\n",
    "\n",
    "    \"\"\"\n",
    "    if integral_config.problem == 'sine_squared':\n",
    "        return SineSquaredOperator(n_qubits, integral_config.param)\n",
    "    else:\n",
    "        raise ValueError(\"Operator for problem {} not implemented\".format(\n",
    "            integral_config.problem\n",
    "        ))"
   ]
  },
  {
   "cell_type": "markdown",
   "metadata": {},
   "source": [
    "Let's build all the operators making up the circuits:"
   ]
  },
  {
   "cell_type": "code",
   "execution_count": 11,
   "metadata": {},
   "outputs": [],
   "source": [
    "#######################\n",
    "# (2) Operators A & Q #\n",
    "#######################\n",
    "# Make the A and Q operators specific to the problem to estimate.\n",
    "# Currently only SineSquaredOperator is implemented.\n",
    "problem_operator = make_operator(config.integral, config.algo.n_qubits)\n",
    "state_preparation = problem_operator.prepare_state()  # P x R operator\n",
    "grover_operator = problem_operator.make_grover()  # Q operator"
   ]
  },
  {
   "cell_type": "markdown",
   "metadata": {},
   "source": [
    "We now define the estimation problem, using the Qiskit built-in `EstimationProblem` class:"
   ]
  },
  {
   "cell_type": "code",
   "execution_count": 12,
   "metadata": {},
   "outputs": [],
   "source": [
    "#####################################\n",
    "# (3) Set up the estimation problem #\n",
    "#####################################\n",
    "problem = EstimationProblem(\n",
    "    state_preparation=state_preparation,\n",
    "    objective_qubits=problem_operator.oracle_size - 1,  # -1 as it's the index of the qubit to measure\n",
    "    grover_operator=grover_operator\n",
    ")"
   ]
  },
  {
   "cell_type": "markdown",
   "metadata": {},
   "source": [
    "In order to run the estimation problem parallely, we need to define a distribution schedule (in our case a greedy distribution schedule):"
   ]
  },
  {
   "cell_type": "code",
   "execution_count": 13,
   "metadata": {},
   "outputs": [
    {
     "name": "stdout",
     "output_type": "stream",
     "text": [
      "### Schedule for parallelization ###\n",
      "# Round 1 #\n",
      "[(0, [5, 0, 0]), (1, [0, 5, 0]), (2, [0, 0, 5]), (3, [0, 0, 5]), (4, [0, 5, 0]), (5, [5, 0, 0])]\n",
      "# Round 2 #\n",
      "[(0, [5, 0, 0]), (1, [0, 5, 0]), (2, [0, 0, 5]), (3, [0, 0, 5]), (4, [0, 5, 0]), (5, [5, 0, 0])]\n",
      "# Round 3 #\n",
      "[(0, [5, 0, 0]), (1, [0, 5, 0]), (2, [0, 0, 5]), (3, [0, 0, 5]), (4, [0, 5, 0]), (5, [5, 0, 0])]\n",
      "# Round 4 #\n",
      "[(0, [5, 0, 0]), (1, [0, 5, 0]), (2, [0, 0, 5]), (3, [0, 0, 5]), (4, [0, 5, 0]), (5, [5, 0, 0])]\n",
      "# Round 5 #\n",
      "[(0, [5, 0, 0]), (1, [0, 5, 0]), (2, [0, 0, 5]), (3, [0, 0, 5]), (4, [0, 5, 0]), (5, [5, 0, 0])]\n",
      "# Round 6 #\n",
      "[(0, [5, 0, 0]), (1, [0, 5, 0]), (2, [0, 0, 5]), (3, [0, 0, 5]), (4, [0, 5, 0]), (5, [5, 0, 0])]\n",
      "# Round 7 #\n",
      "[(0, [5, 0, 0]), (1, [0, 5, 0]), (2, [0, 0, 5]), (3, [0, 0, 5]), (4, [0, 5, 0]), (5, [5, 0, 0])]\n",
      "# Round 8 #\n",
      "[(0, [5, 0, 0]), (1, [0, 5, 0]), (2, [0, 0, 5]), (3, [0, 0, 5]), (4, [0, 5, 0]), (5, [5, 0, 0])]\n",
      "# Round 9 #\n",
      "[(0, [5, 0, 0]), (1, [0, 5, 0]), (2, [0, 0, 5]), (3, [0, 0, 5]), (4, [0, 5, 0]), (5, [5, 0, 0])]\n",
      "# Round 10 #\n",
      "[(0, [5, 0, 0]), (1, [0, 5, 0]), (2, [0, 0, 5]), (3, [0, 0, 5]), (4, [0, 5, 0]), (5, [5, 0, 0])]\n",
      "# Round 11 #\n",
      "[(0, [5, 0, 0]), (1, [0, 5, 0]), (2, [0, 0, 5]), (3, [0, 0, 5]), (4, [0, 5, 0]), (5, [5, 0, 0])]\n",
      "\n"
     ]
    }
   ],
   "source": [
    "##########################################\n",
    "# (4) Schedule for distributed computing #\n",
    "##########################################\n",
    "# A greedy schedule is a schedule that greedily fills the QPUs with as many qubits\n",
    "# that can possibly fit; when the QPUs cannot fit any more qubits, the execution\n",
    "# of those estimations are moved to the next round.\n",
    "# Other approaches are possible, even though not implemented, such as constraint programming.\n",
    "greedy_schedule = GreedySchedule(\n",
    "    config.algo.num_circuits, config.hardware, problem_operator.oracle_size,\n",
    "    allow_distributed=False\n",
    ")\n",
    "greedy_schedule.make_schedule()\n",
    "if len(greedy_schedule.schedule) == 0:\n",
    "    raise SystemExit(\"Hardware capabilities are too small to handle the size of the oracle.\")\n",
    "else:\n",
    "    greedy_schedule.print_schedule()\n",
    "# greedy_schedule.schedule is a dictionary having:\n",
    "# - rounds as keys\n",
    "# - list of tuples (circuit_id, [qubits_qpu1, .., qubits_qpuN])"
   ]
  },
  {
   "cell_type": "markdown",
   "metadata": {},
   "source": [
    "We are now ready to set up the MLAE algorithm:"
   ]
  },
  {
   "cell_type": "code",
   "execution_count": 14,
   "metadata": {},
   "outputs": [],
   "source": [
    "##########################################\n",
    "# (5) Set up the parallel MLAE algorithm #\n",
    "##########################################\n",
    "# PMLAE needs, as well as an evaluation schedule, a parallelization schedule\n",
    "# and a ParallelQuantumInstance\n",
    "pmlae = ParallelMaximumLikelihoodAmplitudeEstimation(\n",
    "    evaluation_schedule=config.algo.evaluation_schedule,\n",
    "    parallelization_schedule=greedy_schedule,\n",
    "    quantum_instance=ParallelQuantumInstance(Aer.get_backend('qasm_simulator'))\n",
    "    )"
   ]
  },
  {
   "cell_type": "markdown",
   "metadata": {},
   "source": [
    "We can now run the algorithm given the estimation problem:"
   ]
  },
  {
   "cell_type": "code",
   "execution_count": 15,
   "metadata": {},
   "outputs": [],
   "source": [
    "##################################\n",
    "# (6) Run the estimation problem #\n",
    "##################################\n",
    "result = pmlae.estimate(problem)"
   ]
  },
  {
   "cell_type": "markdown",
   "metadata": {},
   "source": [
    "And finally print the results:"
   ]
  },
  {
   "cell_type": "code",
   "execution_count": 16,
   "metadata": {},
   "outputs": [
    {
     "name": "stdout",
     "output_type": "stream",
     "text": [
      "### Results ###\n",
      "Analytical result: 0.12158663567967151\n",
      "Discretized result: 0.1211973148745352\n",
      "Estimation result: 0.12088021456797103\n"
     ]
    }
   ],
   "source": [
    "#####################\n",
    "# (7) Print results #\n",
    "#####################\n",
    "print(\"### Results ###\")\n",
    "print(\"Analytical result: {}\".format(problem_operator.analytical_result()))\n",
    "print(\"Discretized result: {}\".format(problem_operator.discretized_result()))\n",
    "print(\"Estimation result: {}\".format(result.estimation))"
   ]
  }
 ],
 "metadata": {
  "kernelspec": {
   "display_name": "Python 3",
   "language": "python",
   "name": "python3"
  },
  "language_info": {
   "codemirror_mode": {
    "name": "ipython",
    "version": 3
   },
   "file_extension": ".py",
   "mimetype": "text/x-python",
   "name": "python",
   "nbconvert_exporter": "python",
   "pygments_lexer": "ipython3",
   "version": "3.8.5"
  }
 },
 "nbformat": 4,
 "nbformat_minor": 4
}
